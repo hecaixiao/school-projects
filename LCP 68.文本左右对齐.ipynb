{
 "cells": [
  {
   "attachments": {},
   "cell_type": "markdown",
   "id": "704d3228",
   "metadata": {},
   "source": [
    "# LCP 68. 文本左右对齐\n",
    "\n",
    "给定一个单词数组 words 和一个长度 maxWidth ，重新排版单词，使其成为每行恰好有 maxWidth 个字符，且左右两端对齐的文本。\n",
    "\n",
    "你应该使用 “贪心算法” 来放置给定的单词；也就是说，尽可能多地往每行中放置单词。必要时可用空格 ' ' 填充，使得每行恰好有 maxWidth 个字符。\n",
    "\n",
    "要求尽可能均匀分配单词间的空格数量。如果某一行单词间的空格不能均匀分配，则左侧放置的空格数要多于右侧的空格数。\n",
    "\n",
    "文本的最后一行应为左对齐，且单词之间不插入额外的空格。\n",
    "\n",
    "注意:\n",
    "\n",
    "单词是指由非空格字符组成的字符序列。\n",
    "每个单词的长度大于 0，小于等于 maxWidth。\n",
    "输入单词数组 words 至少包含一个单词。\n",
    "\n",
    "示例 1:\n",
    "\n",
    "输入: words = [\"This\", \"is\", \"an\", \"example\", \"of\", \"text\", \"justification.\"], maxWidth = 16\n",
    "\n",
    "输出:\n",
    "[\n",
    "   \"This    is    an\",\n",
    "   \"example  of text\",\n",
    "   \"justification.  \"\n",
    "]\n",
    "\n",
    "示例 2:\n",
    "\n",
    "输入:words = [\"What\",\"must\",\"be\",\"acknowledgment\",\"shall\",\"be\"], maxWidth = 16\n",
    "\n",
    "输出:\n",
    "[\n",
    "  \"What   must   be\",\n",
    "  \"acknowledgment  \",\n",
    "  \"shall be        \"\n",
    "]\n",
    "\n",
    "解释: 注意最后一行的格式应为 \"shall be    \" 而不是 \"shall     be\",\n",
    "     因为最后一行应为左对齐，而不是左右两端对齐。       \n",
    "     第二行同样为左对齐，这是因为这行只包含一个单词。\n",
    "     \n",
    "示例 3:\n",
    "\n",
    "输入:words = [\"Science\",\"is\",\"what\",\"we\",\"understand\",\"well\",\"enough\",\"to\",\"explain\",\"to\",\"a\",\"computer.\",\"Art\",\"is\",\"everything\",\"else\",\"we\",\"do\"]，maxWidth = 20\n",
    "\n",
    "输出:\n",
    "[\n",
    "  \"Science  is  what we\",\n",
    "  \"understand      well\",\n",
    "  \"enough to explain to\",\n",
    "  \"a  computer.  Art is\",\n",
    "  \"everything  else  we\",\n",
    "  \"do                  \"\n",
    "]\n",
    "\n",
    "提示:\n",
    "\n",
    "1 <= words.length <= 300\n",
    "\n",
    "1 <= words[i].length <= 20\n",
    "\n",
    "words[i] 由小写英文字母和符号组成\n",
    "\n",
    "1 <= maxWidth <= 100\n",
    "\n",
    "words[i].length <= maxWidth"
   ]
  },
  {
   "cell_type": "markdown",
   "id": "f2665253",
   "metadata": {},
   "source": [
    "# 给定数据"
   ]
  },
  {
   "cell_type": "code",
   "execution_count": 1,
   "id": "502c9832",
   "metadata": {},
   "outputs": [],
   "source": [
    "words =  [\"Science\",\"is\",\"what\",\"we\",\"understand\",\"well\",\"enough\",\"to\",\"explain\",\"to\",\"a\",\"computer.\",\"Art\",\"is\",\"everything\",\"else\",\"we\",\"do\"]\n",
    "maxWidth = 20"
   ]
  },
  {
   "cell_type": "code",
   "execution_count": 2,
   "id": "9ec53cc2",
   "metadata": {},
   "outputs": [],
   "source": [
    "wordlength = {}\n",
    "for i in range(len(words)):\n",
    "    wordlength[i] = len(words[i])"
   ]
  },
  {
   "cell_type": "markdown",
   "id": "3571b46e",
   "metadata": {},
   "source": [
    "# 贪心算法，设计每一行左右对齐输出的函数"
   ]
  },
  {
   "cell_type": "code",
   "execution_count": 3,
   "id": "1d753177",
   "metadata": {},
   "outputs": [],
   "source": [
    "def calculate_length(k,wordlength,maxWidth):\n",
    "    length = wordlength[k]\n",
    "    i=k\n",
    "    for i in range(k+1,len(words)):\n",
    "        if length+wordlength[i]+1 <= maxWidth :\n",
    "            length += wordlength[i]+1\n",
    "        else:\n",
    "            i=i-1\n",
    "            break\n",
    "    return i"
   ]
  },
  {
   "cell_type": "code",
   "execution_count": 7,
   "id": "69fe1152",
   "metadata": {},
   "outputs": [],
   "source": [
    "def get_blank(blank_width,blank_number):\n",
    "    blank = {}\n",
    "    space = {}\n",
    "    blank_ave = blank_width//blank_number\n",
    "    blank_leftover = blank_width - blank_ave*blank_number\n",
    "    for i in range(blank_number):\n",
    "        blank[i] = blank_ave\n",
    "    for j in range(blank_leftover):\n",
    "        blank[j] += 1\n",
    "    for j in range(blank_number):\n",
    "        space[j] =  blank[j]*' '\n",
    "    return space"
   ]
  },
  {
   "cell_type": "code",
   "execution_count": 5,
   "id": "0fe63c4c",
   "metadata": {},
   "outputs": [],
   "source": [
    "def output_lines(words,wordlength,maxWidth):\n",
    "    outputs = []\n",
    "    start = 0\n",
    "    i = 0\n",
    "    while start <= len(words)-1:\n",
    "        space = {}\n",
    "        end = calculate_length(start,wordlength,maxWidth)\n",
    "        if (start == end) or (end == len(words)-1):\n",
    "            line = words[start]\n",
    "            for j in range(start+1,end+1):\n",
    "                line += ' '+ words[j]\n",
    "            if len(line)< maxWidth:\n",
    "                line += (maxWidth-len(line))*' '\n",
    "        else:\n",
    "            blank_width = maxWidth\n",
    "            for j in range(start,end+1):\n",
    "                blank_width -= wordlength[j]\n",
    "            blank_number = end-start\n",
    "            space = get_blank(blank_width,blank_number)\n",
    "            line = words[start]\n",
    "            for j in range(start+1, end+1):\n",
    "                line += space[j-start-1] + words[j]\n",
    "        outputs.append(line)\n",
    "        start = end+1\n",
    "        i += 1\n",
    "    return outputs"
   ]
  },
  {
   "cell_type": "markdown",
   "id": "a6123c57",
   "metadata": {},
   "source": [
    "# 输出结果"
   ]
  },
  {
   "cell_type": "code",
   "execution_count": 8,
   "id": "612db441",
   "metadata": {},
   "outputs": [
    {
     "name": "stdout",
     "output_type": "stream",
     "text": [
      "\"liang  is\"\n",
      "\"a        \"\n",
      "\"beautiful\"\n",
      "\"girl     \"\n"
     ]
    }
   ],
   "source": [
    "outputs = output_lines(words,wordlength,maxWidth)\n",
    "for output in outputs:\n",
    "    print(f'\"{output}\"')"
   ]
  }
 ],
 "metadata": {
  "kernelspec": {
   "display_name": "Python 3 (ipykernel)",
   "language": "python",
   "name": "python3"
  },
  "language_info": {
   "codemirror_mode": {
    "name": "ipython",
    "version": 3
   },
   "file_extension": ".py",
   "mimetype": "text/x-python",
   "name": "python",
   "nbconvert_exporter": "python",
   "pygments_lexer": "ipython3",
   "version": "3.11.3"
  }
 },
 "nbformat": 4,
 "nbformat_minor": 5
}
