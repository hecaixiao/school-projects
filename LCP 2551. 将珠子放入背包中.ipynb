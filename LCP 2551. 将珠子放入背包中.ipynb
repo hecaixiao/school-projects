{
 "cells": [
  {
   "cell_type": "markdown",
   "id": "704d3228",
   "metadata": {},
   "source": [
    "# LCP 2551. 将珠子放入背包中\n",
    "\n",
    "你有 k 个背包。给你一个下标从 0 开始的整数数组 weights ，其中 weights[i] 是第 i 个珠子的重量。同时给你整数 k 。\n",
    "\n",
    "请你按照如下规则将所有的珠子放进 k 个背包。\n",
    "\n",
    "没有背包是空的。\n",
    "如果第 i 个珠子和第 j 个珠子在同一个背包里，那么下标在 i 到 j 之间的所有珠子都必须在这同一个背包中。\n",
    "如果一个背包有下标从 i 到 j 的所有珠子，那么这个背包的价格是 weights[i] + weights[j] 。\n",
    "一个珠子分配方案的 分数 是所有 k 个背包的价格之和。\n",
    "\n",
    "请你返回所有分配方案中，最大分数与最小分数的差值为多少。\n",
    "\n",
    "示例 1：\n",
    "\n",
    "输入：weights = [1,3,5,1], k = 2\n",
    "输出：4\n",
    "解释：\n",
    "分配方案 [1],[3,5,1] 得到最小得分 (1+1) + (3+1) = 6 。\n",
    "分配方案 [1,3],[5,1] 得到最大得分 (1+3) + (5+1) = 10 。\n",
    "所以差值为 10 - 6 = 4 。\n",
    "\n",
    "示例 2：\n",
    "\n",
    "输入：weights = [1, 3], k = 2\n",
    "输出：0\n",
    "解释：唯一的分配方案为 [1],[3] 。\n",
    "最大最小得分相等，所以返回 0 。\n",
    " \n",
    "\n",
    "提示：\n",
    "\n",
    "1 <= k <= weights.length <= 105\n",
    "1 <= weights[i] <= 109"
   ]
  },
  {
   "cell_type": "markdown",
   "id": "f2665253",
   "metadata": {},
   "source": [
    "# 给定数据"
   ]
  },
  {
   "cell_type": "code",
   "execution_count": 1,
   "id": "502c9832",
   "metadata": {},
   "outputs": [],
   "source": [
    "weights = [1,2,3,4,5,6,7,8,9]\n",
    "k=3"
   ]
  },
  {
   "cell_type": "markdown",
   "id": "3571b46e",
   "metadata": {},
   "source": [
    "# 计算前后相邻的重量之和"
   ]
  },
  {
   "cell_type": "code",
   "execution_count": 2,
   "id": "1d753177",
   "metadata": {},
   "outputs": [],
   "source": [
    "def calculate_weights(weights):\n",
    "    w = []\n",
    "    for i in range(len(weights)-1):\n",
    "        s = weights[i]+weights[i+1]\n",
    "        w.append(s)\n",
    "    return w"
   ]
  },
  {
   "cell_type": "code",
   "execution_count": 3,
   "id": "69fe1152",
   "metadata": {},
   "outputs": [
    {
     "name": "stdout",
     "output_type": "stream",
     "text": [
      "[3, 5, 7, 9, 11, 13, 15, 17]\n"
     ]
    }
   ],
   "source": [
    "w = calculate_weights(weights)\n",
    "print(w)"
   ]
  },
  {
   "cell_type": "markdown",
   "id": "d4d0974c",
   "metadata": {},
   "source": [
    "# 排序，确认最大值和最小值的方案，并计算差值"
   ]
  },
  {
   "cell_type": "code",
   "execution_count": 4,
   "id": "0fe63c4c",
   "metadata": {},
   "outputs": [],
   "source": [
    "def arrange_in_order(w):\n",
    "    order = []\n",
    "    for i in range(len(w)):\n",
    "        order.append(i)\n",
    "    for i in range(len(w)):\n",
    "        for j in range(0,len(w)-i-1):\n",
    "            if w[order[j]] < w[order[j+1]]:\n",
    "                k = order[j]\n",
    "                order[j] = order[j+1]\n",
    "                order[j+1] = k\n",
    "    return order"
   ]
  },
  {
   "cell_type": "code",
   "execution_count": 5,
   "id": "62b74f9f",
   "metadata": {
    "scrolled": true
   },
   "outputs": [
    {
     "name": "stdout",
     "output_type": "stream",
     "text": [
      "[7, 6, 5, 4, 3, 2, 1, 0]\n"
     ]
    }
   ],
   "source": [
    "order = arrange_in_order(w)\n",
    "print(order)"
   ]
  },
  {
   "cell_type": "code",
   "execution_count": 6,
   "id": "13ada071",
   "metadata": {},
   "outputs": [],
   "source": [
    "def calculate_price(w,order,k):\n",
    "    maximum_plan = []\n",
    "    minimum_plan = []\n",
    "    maximum = 0\n",
    "    minimum = 0\n",
    "    for i in range(k-1):\n",
    "        maximum += w[order[i]]\n",
    "        maximum_plan.append(order[i])\n",
    "        minimum += w[order[len(order)-i-1]]\n",
    "        minimum_plan.append(order[len(order)-i-1])\n",
    "    for i in range(len(maximum_plan)):\n",
    "        for j in range(len(maximum_plan)-1-i):\n",
    "            if maximum_plan[j] > maximum_plan[j+1]:\n",
    "                k = maximum_plan[j]\n",
    "                maximum_plan[j] = maximum_plan[j+1]\n",
    "                maximum_plan[j+1] = k\n",
    "            if minimum_plan[j] > minimum_plan[j+1]:\n",
    "                k = minimum_plan[j]\n",
    "                minimum_plan[j] = minimum_plan[j+1]\n",
    "                minimum_plan[j+1] = k\n",
    "    return maximum,maximum_plan,minimum,minimum_plan"
   ]
  },
  {
   "cell_type": "code",
   "execution_count": 7,
   "id": "1388af2f",
   "metadata": {},
   "outputs": [],
   "source": [
    "def calculate_order(weights,maximum_plan,minimum_plan,k):\n",
    "    maximum_order = {}\n",
    "    minimum_order = {}\n",
    "    for i in range(k):\n",
    "        maximum_order[i] = []\n",
    "        minimum_order[i] = []\n",
    "        if (i == 0):\n",
    "            for j in range(i,maximum_plan[i]+1):\n",
    "                maximum_order[i].append(weights[j])\n",
    "            for j in range(i,minimum_plan[i]+1):     \n",
    "                minimum_order[i].append(weights[j])\n",
    "        elif(i == k-1):\n",
    "            for j in range(maximum_plan[i-1]+1,len(weights)):\n",
    "                maximum_order[i].append(weights[j])\n",
    "            for j in range(minimum_plan[i-1]+1,len(weights)):\n",
    "                minimum_order[i].append(weights[j])\n",
    "        else:\n",
    "            for j in range(maximum_plan[i-1]+1,maximum_plan[i]+1):\n",
    "                maximum_order[i].append(weights[j])\n",
    "            for j in range(minimum_plan[i-1]+1,minimum_plan[i]+1):\n",
    "                minimum_order[i].append(weights[j])\n",
    "    return maximum_order,minimum_order"
   ]
  },
  {
   "cell_type": "markdown",
   "id": "a6123c57",
   "metadata": {},
   "source": [
    "# 输出结果"
   ]
  },
  {
   "cell_type": "code",
   "execution_count": 8,
   "id": "612db441",
   "metadata": {},
   "outputs": [
    {
     "name": "stdout",
     "output_type": "stream",
     "text": [
      "the maxium price is:  42\n",
      "the minium price is:  18\n",
      "the difference between maximum and minimum prices is:  24\n"
     ]
    }
   ],
   "source": [
    "maximum,maximum_plan,minimum,minimum_plan = calculate_price(w,order,k)\n",
    "maximum += weights[0] + weights[len(weights)-1]\n",
    "minimum += weights[0] + weights[len(weights)-1]\n",
    "print(\"the maxium price is: \",maximum)\n",
    "print(\"the minium price is: \",minimum)\n",
    "print(\"the difference between maximum and minimum prices is: \",maximum-minimum)"
   ]
  },
  {
   "cell_type": "code",
   "execution_count": 9,
   "id": "b46573a8",
   "metadata": {},
   "outputs": [
    {
     "name": "stdout",
     "output_type": "stream",
     "text": [
      "the maxium order is:  [6, 7]\n",
      "the minium order is:  [0, 1]\n",
      "the maxium plan is:  {0: [1, 2, 3, 4, 5, 6, 7], 1: [8], 2: [9]}\n",
      "the minium plan is:  {0: [1], 1: [2], 2: [3, 4, 5, 6, 7, 8, 9]}\n"
     ]
    }
   ],
   "source": [
    "maximum_order,minimum_order = calculate_order(weights,maximum_plan,minimum_plan,k)\n",
    "print(\"the maxium order is: \",maximum_plan)\n",
    "print(\"the minium order is: \",minimum_plan)\n",
    "print(\"the maxium plan is: \",maximum_order)\n",
    "print(\"the minium plan is: \",minimum_order)"
   ]
  }
 ],
 "metadata": {
  "kernelspec": {
   "display_name": "Python 3 (ipykernel)",
   "language": "python",
   "name": "python3"
  },
  "language_info": {
   "codemirror_mode": {
    "name": "ipython",
    "version": 3
   },
   "file_extension": ".py",
   "mimetype": "text/x-python",
   "name": "python",
   "nbconvert_exporter": "python",
   "pygments_lexer": "ipython3",
   "version": "3.11.3"
  }
 },
 "nbformat": 4,
 "nbformat_minor": 5
}
